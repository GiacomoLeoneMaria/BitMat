{
 "cells": [
  {
   "cell_type": "markdown",
   "metadata": {},
   "source": [
    "# BitMat: pack and unpack"
   ]
  },
  {
   "cell_type": "markdown",
   "metadata": {},
   "source": [
    "BitMat is a Python package designed to optimize matrix multiplication operations by utilizing custom kernels written in Triton.\n",
    "In this tutorial we present the pack_ternary and unpack_ternary functions to deal with ternary values {-1, 0, 1}."
   ]
  },
  {
   "cell_type": "code",
   "execution_count": 2,
   "metadata": {},
   "outputs": [],
   "source": [
    "import torch\n",
    "import triton.language as tl\n",
    "from bitmat.utils.packing import pack_ternary, unpack_ternary"
   ]
  },
  {
   "cell_type": "code",
   "execution_count": 3,
   "metadata": {},
   "outputs": [
    {
     "name": "stdout",
     "output_type": "stream",
     "text": [
      "tensor([[[ 0,  1, -1,  0],\n",
      "         [ 1, -1,  0,  1],\n",
      "         [ 0,  0,  1, -1],\n",
      "         [-1,  1,  0,  0]]], dtype=torch.int8)\n"
     ]
    }
   ],
   "source": [
    "x = torch.tensor([[[0, 1, -1, 0], [1, -1, 0, 1], [0, 0, 1, -1], [-1, 1, 0, 0]]], dtype=torch.int8)\n",
    "print(x)"
   ]
  },
  {
   "cell_type": "markdown",
   "metadata": {},
   "source": [
    "## Pack\n",
    "\n",
    "    Pack ternary values into integers.\n",
    "    x: tensor of shape (*, K, N)\n",
    "    n_element_in_one_int: int, number of elements in one integer. Default 4\n",
    "    return: tensor of shape (*, K, N // n_element_in_one_int)\n"
   ]
  },
  {
   "cell_type": "code",
   "execution_count": 4,
   "metadata": {},
   "outputs": [
    {
     "name": "stdout",
     "output_type": "stream",
     "text": [
      "tensor([[[  36],\n",
      "         [  73],\n",
      "         [-112],\n",
      "         [   6]]], dtype=torch.int8)\n"
     ]
    }
   ],
   "source": [
    "packed = pack_ternary(x)\n",
    "print(packed)"
   ]
  },
  {
   "cell_type": "markdown",
   "metadata": {},
   "source": [
    "## Unpack\n",
    "\n",
    "    Unpack ternary values from integers.\n",
    "    x: tensor of shape (*, K // n_bits, N), where K is the total number of ternary values\n",
    "    n_bits: int, number of ternary values that each element in x represents. Default is 4.\n",
    "    return: tensor of shape (*, K, N)"
   ]
  },
  {
   "cell_type": "code",
   "execution_count": 5,
   "metadata": {},
   "outputs": [
    {
     "name": "stdout",
     "output_type": "stream",
     "text": [
      "tensor([[[ 0,  1, -1,  0],\n",
      "         [ 1, -1,  0,  1],\n",
      "         [ 0,  0,  1, -1],\n",
      "         [-1,  1,  0,  0]]], dtype=torch.int8)\n"
     ]
    }
   ],
   "source": [
    "unpacked = unpack_ternary(packed)\n",
    "unpacked = unpacked.to(torch.int8)\n",
    "print(unpacked)"
   ]
  },
  {
   "cell_type": "code",
   "execution_count": 6,
   "metadata": {},
   "outputs": [
    {
     "data": {
      "text/plain": [
       "tensor([[[True, True, True, True],\n",
       "         [True, True, True, True],\n",
       "         [True, True, True, True],\n",
       "         [True, True, True, True]]])"
      ]
     },
     "execution_count": 6,
     "metadata": {},
     "output_type": "execute_result"
    }
   ],
   "source": [
    "x == unpacked"
   ]
  }
 ],
 "metadata": {
  "kernelspec": {
   "display_name": "astra",
   "language": "python",
   "name": "python3"
  },
  "language_info": {
   "codemirror_mode": {
    "name": "ipython",
    "version": 3
   },
   "file_extension": ".py",
   "mimetype": "text/x-python",
   "name": "python",
   "nbconvert_exporter": "python",
   "pygments_lexer": "ipython3",
   "version": "3.10.13"
  }
 },
 "nbformat": 4,
 "nbformat_minor": 2
}
